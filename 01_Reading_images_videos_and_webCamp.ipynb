{
 "cells": [
  {
   "cell_type": "markdown",
   "id": "0d9f7d9f-15e3-4c6e-93d8-c0ec843abf3e",
   "metadata": {},
   "source": [
    "# **Computer vision**\n",
    "## Chapter 1 "
   ]
  },
  {
   "cell_type": "markdown",
   "id": "0d4d5a5a-340c-4789-b08b-f60eb7b9cdb4",
   "metadata": {},
   "source": [
    "### Reading images"
   ]
  },
  {
   "cell_type": "code",
   "execution_count": null,
   "id": "cab27033-2a98-4a4b-bd9f-4bf753ffb695",
   "metadata": {},
   "outputs": [],
   "source": [
    "# Importing Libraries\n",
    "import cv2\n",
    "image_path =\"220px-Lenna_(test_image).png\"\n",
    "\n",
    "# Reading the image\n",
    "img = cv2.imread(image_path)\n",
    "\n",
    "# Displaying the image\n",
    "cv2.imshow(\"Output\", img)\n",
    "\n",
    "# witout delay the image can not show\n",
    "# 1000 = 1 Sec\n",
    "cv2.waitKey(8000)"
   ]
  },
  {
   "cell_type": "markdown",
   "id": "37ea5d91-75c0-4132-8022-4c2864baafb0",
   "metadata": {},
   "source": [
    "### Reading Videos"
   ]
  },
  {
   "cell_type": "code",
   "execution_count": null,
   "id": "5ebf887f-22ae-4dc4-8748-4eba197a344d",
   "metadata": {},
   "outputs": [],
   "source": [
    "# Reading libraries\n",
    "import cv2\n",
    "\n",
    "video_path = \"E:\\Movies\\Dolittle (2020) HDRip 1080p  HQ Lines Telugu+Tamil+Hindi+Eng[MB].mkv\"\n",
    "\n",
    "# Reading the video\n",
    "capv = cv2.VideoCapture(video_path)\n",
    "\n",
    "# The Video is consist of continues images so that's why we are putting loof on the images\n",
    "while True:\n",
    "    success, img = capv.read()\n",
    "    cv2.imshow(\"video\", img)\n",
    "    \n",
    "# the images will continuosly showing untill we press q\n",
    "    if cv2.waitKey(1) & 0xFF == ord(\"q\"):\n",
    "        break"
   ]
  },
  {
   "cell_type": "markdown",
   "id": "37c22dc4-a7f6-46ce-a97e-7d95eacbe90e",
   "metadata": {},
   "source": [
    "### Capturing the webCamp"
   ]
  },
  {
   "cell_type": "code",
   "execution_count": null,
   "id": "e594ad0b-996b-4995-90a5-aa851ae40437",
   "metadata": {},
   "outputs": [],
   "source": [
    "# Reading libraries\n",
    "import cv2\n",
    "\n",
    "# Inside VideoCapture() 0 = to the number of camera you want to attach , now is 1\n",
    "v_cap = cv2.VideoCapture(0)\n",
    "\n",
    "# Defining the Width of the Video\n",
    "# set(self,property_Id: Any, value: Any)\n",
    "v_cap.set(3, 640)\n",
    "\n",
    "# Defining the hight of the Video\n",
    "v_cap.set(4, 480)\n",
    "\n",
    "while True:\n",
    "    success, img = v_cap.read()\n",
    "    cv2.imshow(\"video\", img)\n",
    "    if cv2.waitKey(1) & 0xFF == ord(\"q\"):\n",
    "        break\n"
   ]
  },
  {
   "cell_type": "code",
   "execution_count": null,
   "id": "b867429d-d3a8-4178-bb80-e8633cfa8117",
   "metadata": {},
   "outputs": [],
   "source": []
  }
 ],
 "metadata": {
  "kernelspec": {
   "display_name": "Python 3 (ipykernel)",
   "language": "python",
   "name": "python3"
  },
  "language_info": {
   "codemirror_mode": {
    "name": "ipython",
    "version": 3
   },
   "file_extension": ".py",
   "mimetype": "text/x-python",
   "name": "python",
   "nbconvert_exporter": "python",
   "pygments_lexer": "ipython3",
   "version": "3.7.10"
  }
 },
 "nbformat": 4,
 "nbformat_minor": 5
}
