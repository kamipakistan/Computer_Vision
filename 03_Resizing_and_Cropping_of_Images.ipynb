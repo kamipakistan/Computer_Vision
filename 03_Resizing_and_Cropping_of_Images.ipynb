{
 "cells": [
  {
   "cell_type": "markdown",
   "id": "4d58aa0e-b9c7-44a8-8edc-1bd5c4e24215",
   "metadata": {},
   "source": [
    "# **COMPUTER VISION CHAPTER 3**\n",
    "Resizing and Cropping Images"
   ]
  },
  {
   "cell_type": "markdown",
   "id": "4c1b4b98-4ef8-4e92-85e2-9d5176103aa8",
   "metadata": {},
   "source": [
    "# Resizing of Image"
   ]
  },
  {
   "cell_type": "code",
   "execution_count": null,
   "id": "54f11cf4-98cd-4c84-b149-5252aed877ae",
   "metadata": {},
   "outputs": [],
   "source": [
    "import cv2\n",
    "\n",
    "# Reading the image\n",
    "img = cv2.imread(\"lambo.png\")\n",
    "\n",
    "# Resizing the Image\n",
    "imgResize = cv2.resize(img, (200, 132))\n",
    "\n",
    "# Displaying the Images\n",
    "cv2.imshow(\"Original Image\", img)\n",
    "cv2.imshow(\"Resize Image\", imgResize)\n",
    "\n",
    "cv2.waitKey(0)\n",
    "\n",
    "# Displaying The Shapes of the images\n",
    "print(img.shape)\n",
    "print(imgResize.shape)\n"
   ]
  },
  {
   "cell_type": "markdown",
   "id": "f293ce39-8e51-4240-9982-995fbd7ce72b",
   "metadata": {},
   "source": [
    "### Original Vs Resized\n",
    "<img src = \"images\\resize.png\"/>"
   ]
  },
  {
   "cell_type": "markdown",
   "id": "ba6bd023-c710-428c-bc20-43f96db8850e",
   "metadata": {},
   "source": [
    "# Cropping the image\n",
    "for cropping we do not need the cv2 functions, image is an 2D Array we just limit its size of the Row and columns"
   ]
  },
  {
   "cell_type": "code",
   "execution_count": null,
   "id": "949da004-7d66-48c7-98b5-3b064e337c62",
   "metadata": {},
   "outputs": [],
   "source": [
    "import cv2\n",
    "\n",
    "# Reading the image\n",
    "img = cv2.imread(\"lambo.png\")\n",
    "\n",
    "# Cropping the Image\n",
    "# img[height, width]\n",
    "imgCropped = img[71:304, 100:430]\n",
    "\n",
    "# Displaying the Images\n",
    "cv2.imshow(\"Original Image\", img)\n",
    "cv2.imshow(\"Resize Image\", imgCropped)\n",
    "\n",
    "cv2.waitKey(0)\n",
    "\n",
    "# Displaying The Shapes of the images\n",
    "print(img.shape)\n",
    "print(imgCropped.shape)\n"
   ]
  },
  {
   "cell_type": "markdown",
   "id": "74e0f448-5ac4-481d-b1fe-4d1177527897",
   "metadata": {},
   "source": [
    "### Original vs Cropped\n",
    "\n",
    "<img src =\"images/crop.png\" />"
   ]
  },
  {
   "cell_type": "code",
   "execution_count": null,
   "id": "00e6c15b-3b09-43f3-aa3c-795f328442f1",
   "metadata": {},
   "outputs": [],
   "source": []
  }
 ],
 "metadata": {
  "kernelspec": {
   "display_name": "Python 3 (ipykernel)",
   "language": "python",
   "name": "python3"
  },
  "language_info": {
   "codemirror_mode": {
    "name": "ipython",
    "version": 3
   },
   "file_extension": ".py",
   "mimetype": "text/x-python",
   "name": "python",
   "nbconvert_exporter": "python",
   "pygments_lexer": "ipython3",
   "version": "3.7.10"
  }
 },
 "nbformat": 4,
 "nbformat_minor": 5
}
