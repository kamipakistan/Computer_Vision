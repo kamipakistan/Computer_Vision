{
 "cells": [
  {
   "cell_type": "markdown",
   "id": "064bfe8c-1d90-4d11-8f4f-c448dde8e54e",
   "metadata": {},
   "source": [
    "# **COMPUTER VISION CHAPTER 8**\n",
    "# **CONTOURS AND SHAPE DETECTION**"
   ]
  },
  {
   "cell_type": "markdown",
   "id": "84615716-e45c-49d9-a70c-6b512d29b90b",
   "metadata": {},
   "source": [
    "#### Defining Find Contours method"
   ]
  },
  {
   "cell_type": "markdown",
   "id": "535e24ad-da9e-4c91-b096-f64dbece10f5",
   "metadata": {
    "tags": []
   },
   "source": [
    "**cv2.findContours(image, mode, method)**\n",
    "* The first perameter is the image which we want to find the Contours\n",
    "* The Second Perameter is the **retrival method** We Will use the **External Retrival** method , and it retives the outer contours, corners\n",
    "* The 3rd perameter is the **approximation** were we can request for **All info** or you an request for the **compress values** For this task we are going to find all contours"
   ]
  },
  {
   "cell_type": "code",
   "execution_count": null,
   "id": "e41e1976-0d44-4280-a4a4-f2697b5c35a0",
   "metadata": {},
   "outputs": [],
   "source": [
    "# Importing libraries\n",
    "import cv2\n",
    "import numpy as np"
   ]
  },
  {
   "cell_type": "markdown",
   "id": "ff2c38a9-bf4f-44af-af3a-a8d821e85062",
   "metadata": {},
   "source": [
    "### Find Contour Function"
   ]
  },
  {
   "cell_type": "code",
   "execution_count": null,
   "id": "df4f80b6-0b62-4be2-9192-393a732f80d1",
   "metadata": {},
   "outputs": [],
   "source": [
    "def getContours(img):\n",
    "    \n",
    "    # Finding The Contours of the object\n",
    "    contours, hierarchy = cv2.findContours(img, cv2.RETR_EXTERNAL, cv2.CHAIN_APPROX_NONE)\n",
    "\n",
    "    # Ones we have find the contours it is saved in contours\n",
    "    # So we wil loop through it for getting the values\n",
    "    \n",
    "    for cont in contours:\n",
    "        # So for each contours we are going to find the area first\n",
    "        contours_area = cv2.contourArea(cont)\n",
    "\n",
    "        # After this we will Draw the Contours on original image\n",
    "        print(f\"\\nArea = {contours_area}\")\n",
    "        \n",
    "        if contours_area > 500:\n",
    "            # In each loop it will draw the complete points present in cont\n",
    "            cv2.drawContours(imgContours, cont, -1, (255, 0, 0), 3)\n",
    "\n",
    "            # Now we will find the perimeter of the contours\n",
    "            arcLen = cv2.arcLength(cont, True)\n",
    "            print(f\"Perimeter =  {arcLen}\")\n",
    "\n",
    "            # Approximate the corner point, How many points we have\n",
    "            approx = cv2.approxPolyDP(cont, (0.02 * arcLen), True)\n",
    "            print(approx)\n",
    "            objCorners = len(approx)\n",
    "            print(f\"Object Corners = {objCorners}\")\n",
    "\n",
    "            # Creating bounding box length, height around the detected object\n",
    "            x, y, w, h = cv2.boundingRect(approx)\n",
    "            cv2.rectangle(imgContours, (x, y), (x + w, y + h), (255, 0, 0), 2)\n",
    "\n",
    "            # Defining the Shape of the Object and Assigning name to it\n",
    "            if objCorners == 3: objectType = \"Tri\"\n",
    "            elif objCorners == 4:\n",
    "                espectRatio = w/float(h)\n",
    "                print(espectRatio)\n",
    "                if espectRatio > 0.95 and espectRatio < 1.05: objectType = \"Square\"\n",
    "                else: objectType = \"Rectangle\"\n",
    "            elif objCorners == 5: objectType = \"Pentagon\"\n",
    "            elif objCorners == 6: objectType = \"Hexagon\"\n",
    "            elif objCorners > 6: objectType = \"Circle\"\n",
    "            else: objectType = \"None\"\n",
    "            \n",
    "            # Writing Each Object name in each ittration\n",
    "            cv2.putText(imgContours, objectType, (x+(w//2)-25, y+(h//2)+15), cv2.FONT_HERSHEY_COMPLEX, 0.7, (0, 0, 0), 2)\n",
    "\n"
   ]
  },
  {
   "cell_type": "markdown",
   "id": "9eaab734-9410-4da1-93ee-dcaaa1a3662c",
   "metadata": {},
   "source": [
    "### Stacking Function"
   ]
  },
  {
   "cell_type": "code",
   "execution_count": null,
   "id": "df2b8b86-f8b7-4bcd-8872-26ef29493d98",
   "metadata": {},
   "outputs": [],
   "source": [
    "def stackImages(scale, imgArray):\n",
    "    rows = len(imgArray)\n",
    "    cols = len(imgArray[0])\n",
    "    rowsAvailable = isinstance(imgArray[0], list)\n",
    "    width = imgArray[0][0].shape[1]\n",
    "    height = imgArray[0][0].shape[0]\n",
    "    if rowsAvailable:\n",
    "        for x in range(0, rows):\n",
    "            for y in range(0, cols):\n",
    "                if imgArray[x][y].shape[:2] == imgArray[0][0].shape[:2]:\n",
    "                    imgArray[x][y] = cv2.resize(imgArray[x][y], (0, 0), None, scale, scale)\n",
    "                else:\n",
    "                    imgArray[x][y] = cv2.resize(imgArray[x][y], (imgArray[0][0].shape[1], imgArray[0][0].shape[0]),\n",
    "                                                None, scale, scale)\n",
    "                if len(imgArray[x][y].shape) == 2: imgArray[x][y] = cv2.cvtColor(imgArray[x][y], cv2.COLOR_GRAY2BGR)\n",
    "        imageBlank = np.zeros((height, width, 3), np.uint8)\n",
    "        hor = [imageBlank] * rows\n",
    "        hor_con = [imageBlank] * rows\n",
    "        for x in range(0, rows):\n",
    "            hor[x] = np.hstack(imgArray[x])\n",
    "        ver = np.vstack(hor)\n",
    "    else:\n",
    "        for x in range(0, rows):\n",
    "            if imgArray[x].shape[:2] == imgArray[0].shape[:2]:\n",
    "                imgArray[x] = cv2.resize(imgArray[x], (0, 0), None, scale, scale)\n",
    "            else:\n",
    "                imgArray[x] = cv2.resize(imgArray[x], (imgArray[0].shape[1], imgArray[0].shape[0]), None, scale, scale)\n",
    "            if len(imgArray[x].shape) == 2: imgArray[x] = cv2.cvtColor(imgArray[x], cv2.COLOR_GRAY2BGR)\n",
    "        hor = np.hstack(imgArray)\n",
    "        ver = hor\n",
    "    return ver"
   ]
  },
  {
   "cell_type": "markdown",
   "id": "c34c567a-db9f-4bfb-b641-b4da8211c887",
   "metadata": {},
   "source": [
    "### Shape Detection "
   ]
  },
  {
   "cell_type": "code",
   "execution_count": null,
   "id": "d6218c55-8aa3-40d1-8275-6315aa6cdb80",
   "metadata": {},
   "outputs": [],
   "source": [
    "# Reading the image\n",
    "img = cv2.imread(\"shape.jpg\")\n",
    "\n",
    "imgContours = img.copy()\n",
    "\n",
    "# Converting it into Gray\n",
    "imgGray = cv2.cvtColor(img, cv2.COLOR_BGR2GRAY)\n",
    "\n",
    "# Converting into Blur\n",
    "imgBlur = cv2.GaussianBlur(imgGray, (7, 7), 1)\n",
    "\n",
    "# Canny Edge detector\n",
    "imgCanny = cv2.Canny(imgBlur, 10, 10)\n",
    "\n",
    "# Increase the edge size of canny image\n",
    "imgDialation = cv2.dilate(imgCanny, (7, 7), 3)\n",
    "\n",
    "# Calling the Contours Finding Function\n",
    "getContours(imgDialation)\n",
    "\n",
    "# Creating black image \n",
    "imgBlank = np.zeros_like(img)\n",
    "\n",
    "# Stacking images for better view\n",
    "stackImg = stackImages(0.7, ([img, imgGray, imgBlur],\n",
    "                             [imgDialation, imgContours, imgBlank]))\n",
    "\n",
    "# Displaying the Stacked Images\n",
    "cv2.imshow(\"Image\", stackImg)\n",
    "cv2.waitKey(0)\n"
   ]
  }
 ],
 "metadata": {
  "kernelspec": {
   "display_name": "Python 3 (ipykernel)",
   "language": "python",
   "name": "python3"
  },
  "language_info": {
   "codemirror_mode": {
    "name": "ipython",
    "version": 3
   },
   "file_extension": ".py",
   "mimetype": "text/x-python",
   "name": "python",
   "nbconvert_exporter": "python",
   "pygments_lexer": "ipython3",
   "version": "3.7.10"
  }
 },
 "nbformat": 4,
 "nbformat_minor": 5
}
