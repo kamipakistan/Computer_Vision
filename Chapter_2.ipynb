{
 "cells": [
  {
   "cell_type": "markdown",
   "id": "b935ab66-b807-43bf-ac97-45aceaf8e738",
   "metadata": {},
   "source": [
    "# **Computer Vision Chapter 2**\n",
    "## Basic Functions"
   ]
  },
  {
   "cell_type": "markdown",
   "id": "7d673265-a45d-43f2-9874-e26f64235618",
   "metadata": {},
   "source": [
    "## Gray Scale image"
   ]
  },
  {
   "cell_type": "code",
   "execution_count": null,
   "id": "06c7b6c7-8387-4cb9-84ff-f36c0c065c0c",
   "metadata": {},
   "outputs": [],
   "source": [
    "# importing libraries\n",
    "import cv2\n",
    "\n",
    "#Reading the image\n",
    "img = cv2.imread(\"220px-Lenna_(test_image).png\")\n",
    "\n",
    "#Converting it into Gray scale image\n",
    "# cvtColor = convert color\n",
    "# COLOR_BGR2GRAY are converting the image into gary\n",
    "imgGray = cv2.cvtColor(img, cv2.COLOR_BGR2GRAY)\n",
    "\n",
    "# Displaying the image\n",
    "cv2.imshow(\"Gray Image\", imgGray)\n",
    "cv2.waitKey(0)"
   ]
  },
  {
   "cell_type": "markdown",
   "id": "a815ff8b-1225-48b3-96af-e93155db1a36",
   "metadata": {},
   "source": [
    "# Gray Scale And Blur Images \n",
    "<img src = \"images\\gray_and_blur.png\" />"
   ]
  },
  {
   "cell_type": "markdown",
   "id": "eea93f13-af23-43b5-a0f8-c54312e5d087",
   "metadata": {},
   "source": [
    "# Blur Image"
   ]
  },
  {
   "cell_type": "code",
   "execution_count": null,
   "id": "17ec0e6d-38a2-4197-8000-f52dd8abf590",
   "metadata": {},
   "outputs": [],
   "source": [
    "import cv2\n",
    "\n",
    "#Reading the image\n",
    "img = cv2.imread(\"220px-Lenna_(test_image).png\")\n",
    "\n",
    "# Converting into Blur\n",
    "imgBlur = cv2.GaussianBlur(img, (5, 5), 0)\n",
    "\n",
    "# Displaying Both the Images\n",
    "cv2.imshow(\"Original Image\", img)\n",
    "cv2.imshow(\"Blur Image\", imgBlur)\n",
    "cv2.waitKey(0)"
   ]
  },
  {
   "cell_type": "markdown",
   "id": "a8e87ec8-0fce-43c4-a782-ea54910a946f",
   "metadata": {},
   "source": [
    "# Canny Edge Detector\n",
    "To find the edges in our image we will use canny edge detector"
   ]
  },
  {
   "cell_type": "code",
   "execution_count": null,
   "id": "3fd464e9-2db0-41f2-85af-4ddd0af10fa6",
   "metadata": {},
   "outputs": [],
   "source": [
    "import cv2\n",
    "\n",
    "#Reading the image\n",
    "img = cv2.imread(\"220px-Lenna_(test_image).png\")\n",
    "\n",
    "# Edge Detecting\n",
    "imgCanny = cv2.Canny(img, 100, 100)\n",
    "\n",
    "# Displaying the image\n",
    "cv2.imshow(\"Canny\", imgCanny)\n",
    "cv2.waitKey(0)"
   ]
  },
  {
   "cell_type": "markdown",
   "id": "00c0bb38-744c-47d0-93b2-8a75f8b04d1c",
   "metadata": {},
   "source": [
    "# Canny And Dialation Images \n",
    "<img src = \"images\\Canny_anf_Dialation.png\" />"
   ]
  },
  {
   "cell_type": "markdown",
   "id": "278d1532-5b51-4903-86a0-a54490c3daba",
   "metadata": {},
   "source": [
    "# Image Dialation\n",
    "Increase the thikness of edges in **Canny** "
   ]
  },
  {
   "cell_type": "code",
   "execution_count": null,
   "id": "97b2ad33-fb0d-4e22-a6be-62a2e066d434",
   "metadata": {},
   "outputs": [],
   "source": [
    "import cv2\n",
    "import numpy as np\n",
    "\n",
    "# Reading the image\n",
    "img = cv2.imread(\"220px-Lenna_(test_image).png\")\n",
    "\n",
    "# Making Kernal for the Dialation\n",
    "kernel = np.ones((5, 5), np.uint8)\n",
    "\n",
    "# Making canny image\n",
    "imgCanny = cv2.Canny(img, 100, 100)\n",
    "\n",
    "# Making Dialation of Canny images\n",
    "# iterations value means how many thickness we want\n",
    "imgDialation = cv2.dilate(imgCanny, kernel, iterations=1)\n",
    "\n",
    "# Displaying the images\n",
    "cv2.imshow(\"Canny Image\", imgCanny)\n",
    "cv2.imshow(\"Dialation\", imgDialation)\n",
    "\n",
    "cv2.waitKey(0)"
   ]
  },
  {
   "cell_type": "markdown",
   "id": "9c9cea37-9bdc-4882-af61-3733264f5356",
   "metadata": {},
   "source": [
    "# Eroded Image\n",
    "Opposite od the Dialation"
   ]
  },
  {
   "cell_type": "code",
   "execution_count": null,
   "id": "4cbf4be4-f522-4ca4-afbd-eef47fdd3ae3",
   "metadata": {},
   "outputs": [],
   "source": [
    "import cv2\n",
    "import numpy as np\n",
    "\n",
    "# Reading the image\n",
    "img = cv2.imread(\"220px-Lenna_(test_image).png\")\n",
    "\n",
    "# Making Kernal for the Dialation\n",
    "kernel = np.ones((5, 5), np.uint8)\n",
    "\n",
    "# Making canny image\n",
    "imgCanny = cv2.Canny(img, 200, 200)\n",
    "\n",
    "# Making Dialation of Canny images\n",
    "# iterations value means how many thickness we want\n",
    "imgDialation = cv2.dilate(imgCanny, kernel, iterations= 1)\n",
    "\n",
    "# Making Eroded Image\n",
    "imgEroded = cv2.erode(imgDialation, kernel, iterations=1)\n",
    "\n",
    "# Displaying the images\n",
    "cv2.imshow(\"Canny Image\", imgCanny)\n",
    "cv2.imshow(\"Dialation image\", imgDialation)\n",
    "cv2.imshow(\"Eroded image\", imgEroded)\n",
    "\n",
    "cv2.waitKey(0)"
   ]
  },
  {
   "cell_type": "markdown",
   "id": "9b8e5d22-d08f-439e-935e-1ff5198e6458",
   "metadata": {},
   "source": [
    "# Canny , Dialated, Eroded Images\n",
    "\n",
    "<img src = \"images\\canny_dialated_eroded.png\"/>"
   ]
  },
  {
   "cell_type": "code",
   "execution_count": null,
   "id": "1077393e-c225-404f-b9c6-1108b5e04fd1",
   "metadata": {},
   "outputs": [],
   "source": []
  }
 ],
 "metadata": {
  "kernelspec": {
   "display_name": "Python 3 (ipykernel)",
   "language": "python",
   "name": "python3"
  },
  "language_info": {
   "codemirror_mode": {
    "name": "ipython",
    "version": 3
   },
   "file_extension": ".py",
   "mimetype": "text/x-python",
   "name": "python",
   "nbconvert_exporter": "python",
   "pygments_lexer": "ipython3",
   "version": "3.7.10"
  }
 },
 "nbformat": 4,
 "nbformat_minor": 5
}
