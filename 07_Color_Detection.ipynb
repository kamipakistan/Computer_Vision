{
 "cells": [
  {
   "cell_type": "markdown",
   "id": "a0dc1f4e-1545-4ec9-9466-e16a02727683",
   "metadata": {},
   "source": [
    "# **COMPUTER VISION CHAPTER 7**\n",
    "# **COLOR DETECTION**"
   ]
  },
  {
   "cell_type": "markdown",
   "id": "dfb92cb0-855f-4c69-8a7d-90ffceda231b",
   "metadata": {},
   "source": [
    "## Function For Stacking the images"
   ]
  },
  {
   "cell_type": "code",
   "execution_count": 1,
   "id": "c62b881d-2e13-46f0-9dda-cc0664f8e712",
   "metadata": {
    "tags": []
   },
   "outputs": [],
   "source": [
    "def stackImages(scale,imgArray):\n",
    "    rows = len(imgArray)\n",
    "    cols = len(imgArray[0])\n",
    "    rowsAvailable = isinstance(imgArray[0], list)\n",
    "    width = imgArray[0][0].shape[1]\n",
    "    height = imgArray[0][0].shape[0]\n",
    "    if rowsAvailable:\n",
    "        for x in range ( 0, rows):\n",
    "            for y in range(0, cols):\n",
    "                if imgArray[x][y].shape[:2] == imgArray[0][0].shape [:2]:\n",
    "                    imgArray[x][y] = cv2.resize(imgArray[x][y], (0, 0), None, scale, scale)\n",
    "                else:\n",
    "                    imgArray[x][y] = cv2.resize(imgArray[x][y], (imgArray[0][0].shape[1], imgArray[0][0].shape[0]), None, scale, scale)\n",
    "                if len(imgArray[x][y].shape) == 2: imgArray[x][y]= cv2.cvtColor( imgArray[x][y], cv2.COLOR_GRAY2BGR)\n",
    "        imageBlank = np.zeros((height, width, 3), np.uint8)\n",
    "        hor = [imageBlank]*rows\n",
    "        hor_con = [imageBlank]*rows\n",
    "        for x in range(0, rows):\n",
    "            hor[x] = np.hstack(imgArray[x])\n",
    "        ver = np.vstack(hor)\n",
    "    else:\n",
    "        for x in range(0, rows):\n",
    "            if imgArray[x].shape[:2] == imgArray[0].shape[:2]:\n",
    "                imgArray[x] = cv2.resize(imgArray[x], (0, 0), None, scale, scale)\n",
    "            else:\n",
    "                imgArray[x] = cv2.resize(imgArray[x], (imgArray[0].shape[1], imgArray[0].shape[0]), None,scale, scale)\n",
    "            if len(imgArray[x].shape) == 2: imgArray[x] = cv2.cvtColor(imgArray[x], cv2.COLOR_GRAY2BGR)\n",
    "        hor= np.hstack(imgArray)\n",
    "        ver = hor\n",
    "    return ver"
   ]
  },
  {
   "cell_type": "markdown",
   "id": "cc960fb2-6ea8-4e6e-9cd2-1ad1309d3d2d",
   "metadata": {},
   "source": [
    "# Color Detection"
   ]
  },
  {
   "cell_type": "code",
   "execution_count": null,
   "id": "fde9f22a-0ddb-4b54-9f93-917093edca28",
   "metadata": {},
   "outputs": [],
   "source": [
    "# Importing Libraries\n",
    "import cv2\n",
    "import numpy as np\n",
    "\n",
    "\n",
    "# Defining a Function for Trackbars\n",
    "def empty(a):\n",
    "    pass\n",
    "\n",
    "\n",
    "# Creating the Window For TrackBras\n",
    "cv2.namedWindow(\"TrackBars\")\n",
    "cv2.resizeWindow(\"TrackBars\", 640, 240)\n",
    "\n",
    "# Creating the TrackBars Values\n",
    "cv2.createTrackbar(\"Hue Min\", \"TrackBars\", 12, 179, empty)\n",
    "cv2.createTrackbar(\"Hue Max\", \"TrackBars\", 179, 179, empty)\n",
    "cv2.createTrackbar(\"Sat Min\", \"TrackBars\", 120, 255, empty)\n",
    "cv2.createTrackbar(\"Sat Max\", \"TrackBars\", 255, 255, empty)\n",
    "cv2.createTrackbar(\"Val Min\", \"TrackBars\", 81, 255, empty)\n",
    "cv2.createTrackbar(\"Val Max\", \"TrackBars\", 255, 255, empty)\n",
    "\n",
    "# Reading the TrackBars Values\n",
    "while True:\n",
    "    # Reading the Image\n",
    "    img = cv2.imread(\"lambo.png\")\n",
    "\n",
    "    # Converting it into HSV\n",
    "    imgHSV = cv2.cvtColor(img, cv2.COLOR_BGR2HSV)\n",
    "\n",
    "    # Reading the TrackBars Values\n",
    "    h_min = cv2.getTrackbarPos(\"Hue Min\", \"TrackBars\")\n",
    "    h_max = cv2.getTrackbarPos(\"Hue Max\", \"TrackBars\")\n",
    "    s_min = cv2.getTrackbarPos(\"Sat Min\", \"TrackBars\")\n",
    "    s_max = cv2.getTrackbarPos(\"Sat Max\", \"TrackBars\")\n",
    "    v_min = cv2.getTrackbarPos(\"Val Min\", \"TrackBars\")\n",
    "    v_max = cv2.getTrackbarPos(\"Val Max\", \"TrackBars\")\n",
    "\n",
    "    # Printing the Trackbar Values\n",
    "    print(h_min, h_max, s_min, s_max, v_min, v_max)\n",
    "\n",
    "    # We Will use the above TrackBars values to filter our image\n",
    "    # and we get a particular color in that range\n",
    "\n",
    "    # Creating a mask which are in the range of these colors\n",
    "    lower = np.array([h_min, s_min, v_min])\n",
    "    upper = np.array([h_max, s_max, v_max])\n",
    "    mask = cv2.inRange(imgHSV, lower, upper)\n",
    "\n",
    "    # Comparing The Mask and Original Image And Creating a new one from it\n",
    "    imgResult = cv2.bitwise_and(img, img, mask=mask)\n",
    "\n",
    "    imgStacks = stackImages(0.8, ([img, imgHSV], [mask, imgResult]))\n",
    "\n",
    "    # Displaying all the Images\n",
    "    cv2.imshow(\"Stacks\", imgStacks)\n",
    "    cv2.waitKey(1)"
   ]
  },
  {
   "cell_type": "markdown",
   "id": "8a55f709-e3fa-471d-b790-a002d85cf762",
   "metadata": {
    "tags": []
   },
   "source": [
    "### Color Detection\n",
    "<img src = \"color_detection.png\" />"
   ]
  },
  {
   "cell_type": "markdown",
   "id": "c6c06890-534b-4bde-b4fd-9ef7fd8f9562",
   "metadata": {},
   "source": [
    "### Trackbars\n",
    "<img src = \"trackbarspng.png\" />"
   ]
  },
  {
   "cell_type": "code",
   "execution_count": null,
   "id": "5c014437-ccf7-40b4-9b72-661a3e339c86",
   "metadata": {},
   "outputs": [],
   "source": []
  }
 ],
 "metadata": {
  "kernelspec": {
   "display_name": "Python 3 (ipykernel)",
   "language": "python",
   "name": "python3"
  },
  "language_info": {
   "codemirror_mode": {
    "name": "ipython",
    "version": 3
   },
   "file_extension": ".py",
   "mimetype": "text/x-python",
   "name": "python",
   "nbconvert_exporter": "python",
   "pygments_lexer": "ipython3",
   "version": "3.7.10"
  }
 },
 "nbformat": 4,
 "nbformat_minor": 5
}m
