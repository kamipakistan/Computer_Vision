{
 "cells": [
  {
   "cell_type": "markdown",
   "id": "90f4d0c4-17e0-442c-bc1b-819de7dbedf3",
   "metadata": {},
   "source": [
    "# **COMPUTER VISION CHAPTER 6**\n",
    "\n",
    "# **Joining images**"
   ]
  },
  {
   "cell_type": "markdown",
   "id": "729a9d98-5d8d-41fe-bf50-839b66a1f25d",
   "metadata": {},
   "source": [
    "# Horizontal and Vertical Stacking of Image"
   ]
  },
  {
   "cell_type": "code",
   "execution_count": null,
   "id": "61926abe-d12a-4433-addf-cc3150782990",
   "metadata": {},
   "outputs": [],
   "source": [
    "# Importing the libraries\n",
    "import cv2\n",
    "import numpy as np\n",
    "\n",
    "# Reading the image\n",
    "img = cv2.imread(\"lambo.png\")\n",
    "\n",
    "# Note the dimensions of the stacking images will be the same\n",
    "# Horizontal Stacking the image\n",
    "imgHorStack = np.hstack((img, img))\n",
    "\n",
    "# vertically stacking the image\n",
    "imgVrStack = np.vstack((img, img))\n",
    "\n",
    "# Displaying the both images\n",
    "cv2.imshow(\"Hor Stack\", imgHorStack)\n",
    "cv2.imshow(\"Var Stack\", imgVrStack)\n",
    "cv2.waitKey(0)"
   ]
  },
  {
   "cell_type": "markdown",
   "id": "e85d7275-35a6-4fbd-bf85-18a9183f6478",
   "metadata": {},
   "source": [
    "### Horizontal and Vertical stacking\n",
    "<img src =\"stacking.png\" />"
   ]
  },
  {
   "cell_type": "markdown",
   "id": "37447645-3f36-41c1-9664-9b5130491ddf",
   "metadata": {},
   "source": [
    "# Advance Stacking"
   ]
  },
  {
   "cell_type": "markdown",
   "id": "6a6492d1-8bd3-4153-895f-b1d79f2ee7fe",
   "metadata": {},
   "source": [
    "**Stacking Function** you can stack images with different channels and in horizontals and also in Vertical"
   ]
  },
  {
   "cell_type": "markdown",
   "id": "9979e0fd-85b9-4709-870f-c562ba9eb603",
   "metadata": {},
   "source": [
    "### Stacking Function"
   ]
  },
  {
   "cell_type": "code",
   "execution_count": 2,
   "id": "88421c6f-64a8-41af-9e92-bf294e95931d",
   "metadata": {},
   "outputs": [],
   "source": [
    "def stackImages(scale,imgArray):\n",
    "    rows = len(imgArray)\n",
    "    cols = len(imgArray[0])\n",
    "    rowsAvailable = isinstance(imgArray[0], list)\n",
    "    width = imgArray[0][0].shape[1]\n",
    "    height = imgArray[0][0].shape[0]\n",
    "    if rowsAvailable:\n",
    "        for x in range ( 0, rows):\n",
    "            for y in range(0, cols):\n",
    "                if imgArray[x][y].shape[:2] == imgArray[0][0].shape [:2]:\n",
    "                    imgArray[x][y] = cv2.resize(imgArray[x][y], (0, 0), None, scale, scale)\n",
    "                else:\n",
    "                    imgArray[x][y] = cv2.resize(imgArray[x][y], (imgArray[0][0].shape[1], imgArray[0][0].shape[0]), None, scale, scale)\n",
    "                if len(imgArray[x][y].shape) == 2: imgArray[x][y]= cv2.cvtColor( imgArray[x][y], cv2.COLOR_GRAY2BGR)\n",
    "        imageBlank = np.zeros((height, width, 3), np.uint8)\n",
    "        hor = [imageBlank]*rows\n",
    "        hor_con = [imageBlank]*rows\n",
    "        for x in range(0, rows):\n",
    "            hor[x] = np.hstack(imgArray[x])\n",
    "        ver = np.vstack(hor)\n",
    "    else:\n",
    "        for x in range(0, rows):\n",
    "            if imgArray[x].shape[:2] == imgArray[0].shape[:2]:\n",
    "                imgArray[x] = cv2.resize(imgArray[x], (0, 0), None, scale, scale)\n",
    "            else:\n",
    "                imgArray[x] = cv2.resize(imgArray[x], (imgArray[0].shape[1], imgArray[0].shape[0]), None,scale, scale)\n",
    "            if len(imgArray[x].shape) == 2: imgArray[x] = cv2.cvtColor(imgArray[x], cv2.COLOR_GRAY2BGR)\n",
    "        hor= np.hstack(imgArray)\n",
    "        ver = hor\n",
    "    return ver"
   ]
  },
  {
   "cell_type": "code",
   "execution_count": null,
   "id": "2d9bdb56-a1d4-4a61-a9e5-627d514c7442",
   "metadata": {},
   "outputs": [],
   "source": [
    "import cv2\n",
    "import numpy as np\n",
    "\n",
    "img = cv2.imread(\"lam.png\")\n",
    "imgGray = cv2.cvtColor(img, cv2.COLOR_BGR2GRAY)\n",
    "imgstacking = stackImages(1, [[img, imgGray, img], [img, imgGray, img]])\n",
    "\n",
    "cv2.imshow(\"Stacking\", imgstacking)\n",
    "cv2.waitKey(0)"
   ]
  },
  {
   "cell_type": "markdown",
   "id": "6d5bebf7-db45-4f8b-99ba-978b88527301",
   "metadata": {},
   "source": [
    "### Advance Horizontal and Vertical stacking\n",
    "<img src =\"ad_stack.png\" />"
   ]
  },
  {
   "cell_type": "code",
   "execution_count": null,
   "id": "29ce6c6c-b82a-4afe-a488-ffcc70afed3a",
   "metadata": {},
   "outputs": [],
   "source": []
  }
 ],
 "metadata": {
  "kernelspec": {
   "display_name": "Python 3 (ipykernel)",
   "language": "python",
   "name": "python3"
  },
  "language_info": {
   "codemirror_mode": {
    "name": "ipython",
    "version": 3
   },
   "file_extension": ".py",
   "mimetype": "text/x-python",
   "name": "python",
   "nbconvert_exporter": "python",
   "pygments_lexer": "ipython3",
   "version": "3.7.10"
  }
 },
 "nbformat": 4,
 "nbformat_minor": 5
}
