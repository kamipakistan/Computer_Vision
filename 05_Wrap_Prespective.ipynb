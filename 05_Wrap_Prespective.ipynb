{
 "cells": [
  {
   "cell_type": "markdown",
   "id": "f9166ff4-a0e7-4c4a-8a07-c96b4c3d08d1",
   "metadata": {},
   "source": [
    "# **COMPUTER VISION CHAPTER 5**\n",
    "# **WRAP PRESPECTIVE**"
   ]
  },
  {
   "cell_type": "code",
   "execution_count": null,
   "id": "1626202f-12b3-4b36-9120-5a5ea97d8b6b",
   "metadata": {},
   "outputs": [],
   "source": [
    "import cv2\n",
    "import numpy as np\n",
    "\n",
    "# Reading the image\n",
    "img = cv2.imread(\"cards.png\")\n",
    "\n",
    "# Size required for our final image\n",
    "width, height = 250, 350\n",
    "\n",
    "# Choose the Four Coordinates of the Card\n",
    "pts1 = np.float32([[452, 200], [583, 252], [382, 381], [522, 444]])\n",
    "\n",
    "# Choose Which Coordinate is of which side\n",
    "pts2 = np.float32([[0, 0], [width, 0], [0, height], [width, height]])\n",
    "\n",
    "# Getting the Transformation matrix\n",
    "matrix = cv2.getPerspectiveTransform(pts1, pts2)\n",
    "\n",
    "# Compare the Matrix and the image and  Warping it out\n",
    "result = cv2.warpPerspective(img, matrix, (width, height))\n",
    "\n",
    "# Displaying the images\n",
    "cv2.imshow(\"Cards\", img)\n",
    "cv2.imshow(\"Wrap\", result)\n",
    "cv2.waitKey(0)\n"
   ]
  },
  {
   "cell_type": "markdown",
   "id": "99b66103-01b2-45d1-8931-0858ce27c74d",
   "metadata": {},
   "source": [
    "# Wrap\n",
    "<img src =\"wrap.png\" />"
   ]
  },
  {
   "cell_type": "code",
   "execution_count": null,
   "id": "94b73f0e-598e-44c4-9d71-b7a5107d2a9d",
   "metadata": {},
   "outputs": [],
   "source": []
  }
 ],
 "metadata": {
  "kernelspec": {
   "display_name": "Python 3",
   "language": "python",
   "name": "python3"
  },
  "language_info": {
   "codemirror_mode": {
    "name": "ipython",
    "version": 3
   },
   "file_extension": ".py",
   "mimetype": "text/x-python",
   "name": "python",
   "nbconvert_exporter": "python",
   "pygments_lexer": "ipython3",
   "version": "3.8.8"
  }
 },
 "nbformat": 4,
 "nbformat_minor": 5
}
