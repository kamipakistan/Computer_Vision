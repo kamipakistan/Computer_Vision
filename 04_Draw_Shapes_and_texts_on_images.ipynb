{
 "cells": [
  {
   "cell_type": "markdown",
   "id": "8298f738-ce37-4cb0-83aa-31f880184be3",
   "metadata": {},
   "source": [
    "# **COMPUTER VISION CHAPTER 4**\n",
    "# **Draw Shapes and texts on images**"
   ]
  },
  {
   "cell_type": "markdown",
   "id": "054fd0e0-521d-4d9c-b614-48461c7a092e",
   "metadata": {},
   "source": [
    "### Shapes\n",
    "<img src = \"images\\shapes.png\" />"
   ]
  },
  {
   "cell_type": "markdown",
   "id": "1fe1e36e-8bea-4bdb-b19d-55d95a58edc0",
   "metadata": {},
   "source": [
    "# Draw a Line on Image"
   ]
  },
  {
   "cell_type": "code",
   "execution_count": null,
   "id": "69173692-3ff8-416b-8f9a-bc2566014ef7",
   "metadata": {},
   "outputs": [],
   "source": [
    "import cv2\n",
    "import numpy as np\n",
    "\n",
    "# Making an black (0 = black) image\n",
    "img = np.zeros((512, 512, 3), np.uint8)\n",
    "\n",
    "# We can even convert it in to different Colors\n",
    "# Blue Image, (BGR)\n",
    "# img[:] = 255, 0, 0\n",
    "\n",
    "# Creating Line on image\n",
    "# line(image , Starting_Coordinate, End_Coordinates, Color, Thickness)\n",
    "cv2.line(img, (0, 0), (img.shape[0], img.shape[1]), (0, 0, 255), 3)\n",
    "\n",
    "# Displaying image\n",
    "cv2.imshow(\"Image\", img)\n",
    "cv2.waitKey(0)"
   ]
  },
  {
   "cell_type": "markdown",
   "id": "480dea00-a5a3-4f43-b96f-8ce58e86ab32",
   "metadata": {},
   "source": [
    "# Rectangle"
   ]
  },
  {
   "cell_type": "code",
   "execution_count": null,
   "id": "2e1ac7fc-144e-47d7-8334-0b1e335dc9d4",
   "metadata": {},
   "outputs": [],
   "source": [
    "import cv2\n",
    "import numpy as np\n",
    "\n",
    "# Making an black (0 = black) image\n",
    "img = np.zeros((512, 512, 3), np.uint8)\n",
    "\n",
    "# We can even convert it in to different Colors\n",
    "# Blue Image, (BGR)\n",
    "# img[:] = 255, 0, 0\n",
    "\n",
    "# Creating a Rectangle\n",
    "cv2.rectangle(img, (100, 100), (400, 400), (0, 255, 0), 2)\n",
    "\n",
    "# Filling the Rectangle\n",
    "# cv2.rectangle(img, (0, 0), (200, 200), (0, 255, 0), cv2.FILLED)\n",
    "\n",
    "# Displaying image\n",
    "cv2.imshow(\"Image\", img)\n",
    "cv2.waitKey(0)"
   ]
  },
  {
   "cell_type": "markdown",
   "id": "a8315e65-33c3-4236-9b72-479607bca4b1",
   "metadata": {},
   "source": [
    "# Circle"
   ]
  },
  {
   "cell_type": "code",
   "execution_count": 1,
   "id": "ba8f764d-7cd7-477f-92af-adccc135df22",
   "metadata": {},
   "outputs": [
    {
     "data": {
      "text/plain": [
       "18"
      ]
     },
     "execution_count": 1,
     "metadata": {},
     "output_type": "execute_result"
    }
   ],
   "source": [
    "import cv2\n",
    "import numpy as np\n",
    "\n",
    "# Making an black (0 = black) image\n",
    "img = np.zeros((512, 512, 3), np.uint8)\n",
    "\n",
    "# We can even convert it in to different Colors\n",
    "# Blue Image, (BGR)\n",
    "# img[:] = 255, 0, 0\n",
    "\n",
    "cv2.circle(img, (250, 250), 150, (0, 255, 0), 3)\n",
    "\n",
    "# Filling the Circle\n",
    "# cv2.circle(img, (250, 250), 150, (0, 255, 0), cv2.FILLED)\n",
    "\n",
    "# Displaying image\n",
    "cv2.imshow(\"Image\", img)\n",
    "cv2.waitKey(0)"
   ]
  },
  {
   "cell_type": "markdown",
   "id": "8772d98d-69e0-44d1-868c-d21025a83ac0",
   "metadata": {},
   "source": [
    "# Writing Text on images"
   ]
  },
  {
   "cell_type": "code",
   "execution_count": null,
   "id": "a1fd2781-2c1e-48b2-bc18-470651565bc7",
   "metadata": {},
   "outputs": [],
   "source": [
    "import cv2\n",
    "import numpy as np\n",
    "\n",
    "# Making an black (0 = black) image\n",
    "img = np.zeros((512, 512, 3), np.uint8)\n",
    "\n",
    "# We can even convert it in to different Colors\n",
    "# Blue Image, (BGR)\n",
    "# img[:] = 255, 0, 0\n",
    "\n",
    "\n",
    "# shapes\n",
    "# Creating Line on image\n",
    "cv2.line(img, (0, 0), (img.shape[0], img.shape[1]), (0, 0, 255), 3)\n",
    "\n",
    "# Creating a Rectangle\n",
    "cv2.rectangle(img, (40, 300), (200, 450), (0, 255, 0), 2)\n",
    "\n",
    "# Creating a Circle\n",
    "cv2.circle(img, (400, 100), 50, (255, 0, 0), 3)\n",
    "\n",
    "\n",
    "# Texts\n",
    "\n",
    "# Circle\n",
    "cv2.putText(img, \"Circle\", (360, 110), cv2.FONT_HERSHEY_COMPLEX, 0.8, (0, 255, 0), 2)\n",
    "\n",
    "# Rectangle\n",
    "cv2.putText(img, \"Rectangle\", (58, 380), cv2.FONT_HERSHEY_COMPLEX, 0.8, (0, 255, 0), 2)\n",
    "\n",
    "# line\n",
    "cv2.putText(img, \"Line\", (220, 250), cv2.FONT_HERSHEY_COMPLEX, 1, (255, 255, 0), 2)\n",
    "\n",
    "\n",
    "# Displaying image\n",
    "cv2.imshow(\"Image\", img)\n",
    "cv2.waitKey(0)"
   ]
  },
  {
   "cell_type": "markdown",
   "id": "e5655f25-e296-4ef4-8eef-bb8a1f4d207f",
   "metadata": {},
   "source": [
    "# Texts\n",
    "<img src = \"images\\texts.png\" />"
   ]
  }
 ],
 "metadata": {
  "kernelspec": {
   "display_name": "Python 3",
   "language": "python",
   "name": "python3"
  },
  "language_info": {
   "codemirror_mode": {
    "name": "ipython",
    "version": 3
   },
   "file_extension": ".py",
   "mimetype": "text/x-python",
   "name": "python",
   "nbconvert_exporter": "python",
   "pygments_lexer": "ipython3",
   "version": "3.8.8"
  }
 },
 "nbformat": 4,
 "nbformat_minor": 5
}
